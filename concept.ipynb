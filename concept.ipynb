{
 "cells": [
  {
   "cell_type": "code",
   "execution_count": 24,
   "metadata": {},
   "outputs": [],
   "source": [
    "fastfood_list = [\n",
    "    {\"Product\": \"Coke\", \"Price\": 1.99},\n",
    "    {\"Product\": \"Fries\", \"Price\": 2.49},  # \"Pommes\" translated to \"Fries\"\n",
    "    {\"Product\": \"Hamburger\", \"Price\": 3.99},\n",
    "    {\"Product\": \"Cheeseburger\", \"Price\": 4.49},\n",
    "    {\"Product\": \"Chicken Nuggets\", \"Price\": 4.99},\n",
    "    {\"Product\": \"Ice Cream Sundae\", \"Price\": 2.99},  # \"Eisbecher\" translated to \"Ice Cream Sundae\"\n",
    "    {\"Product\": \"Salad\", \"Price\": 3.99},  # \"Salat\" translated to \"Salad\"\n",
    "    {\"Product\": \"Fishburger\", \"Price\": 4.99},\n",
    "    {\"Product\": \"Hot Dog\", \"Price\": 3.49},\n",
    "    {\"Product\": \"Milkshake\", \"Price\": 2.99}  # \"Milchshake\" translated to \"Milkshake\"\n",
    "]\n"
   ]
  },
  {
   "cell_type": "code",
   "execution_count": 25,
   "metadata": {},
   "outputs": [],
   "source": [
    "from openai import OpenAI\n",
    "from dotenv import find_dotenv, load_dotenv\n",
    "\n",
    "load_dotenv(find_dotenv())\n",
    "\n",
    "client = OpenAI()\n",
    "\n",
    "audio_file = open(\"speech.mp3\", \"rb\")\n",
    "transcript = client.audio.transcriptions.create(\n",
    "  model=\"whisper-1\",\n",
    "  file=audio_file\n",
    ")"
   ]
  },
  {
   "cell_type": "code",
   "execution_count": 26,
   "metadata": {},
   "outputs": [],
   "source": [
    "def find_products_by_name(produktliste, namen):\n",
    "    gefundene_produkte = [produkt for produkt in produktliste if produkt[\"Product\"] in namen]\n",
    "    return gefundene_produkte\n",
    "\n",
    "\n",
    "gesuchte_namen = [\"Coke\", \"Hamburger\"]\n",
    "gefundene_produkte = find_products_by_name(fastfood_list, gesuchte_namen)"
   ]
  },
  {
   "cell_type": "code",
   "execution_count": 27,
   "metadata": {},
   "outputs": [
    {
     "name": "stdout",
     "output_type": "stream",
     "text": [
      "{'Product': 'Coke', 'Price': 1.99}\n",
      "{'Product': 'Hamburger', 'Price': 3.99}\n"
     ]
    }
   ],
   "source": [
    "for produkt in gefundene_produkte:\n",
    "    print(produkt)"
   ]
  },
  {
   "cell_type": "code",
   "execution_count": 12,
   "metadata": {},
   "outputs": [],
   "source": [
    "tools = [{\n",
    "    \"type\": \"function\",\n",
    "    \"function\": {\n",
    "        \"name\": \"find_products_by_name\",\n",
    "        \"description\": \"Find products by their names from a list of product dictionaries\",\n",
    "        \"parameters\": {\n",
    "            \"type\": \"object\",\n",
    "            \"properties\": {\n",
    "                \"product_list\": {\n",
    "                    \"type\": \"array\",\n",
    "                    \"items\": {\n",
    "                        \"type\": \"object\",\n",
    "                        \"properties\": {\n",
    "                            \"Product\": {\"type\": \"string\"},\n",
    "                            \"Price\": {\"type\": \"number\"}\n",
    "                        },\n",
    "                        \"required\": [\"Product\", \"Price\"]\n",
    "                    },\n",
    "                    \"description\": \"A list of product dictionaries, each containing a product's name and price\"\n",
    "                },\n",
    "                \"names\": {\n",
    "                    \"type\": \"array\",\n",
    "                    \"items\": {\"type\": \"string\"},\n",
    "                    \"description\": \"List of product names to search for in the product list\"\n",
    "                }\n",
    "            },\n",
    "            \"required\": [\"product_list\", \"names\"]\n",
    "        }\n",
    "    }\n",
    "}]\n"
   ]
  },
  {
   "cell_type": "code",
   "execution_count": 13,
   "metadata": {},
   "outputs": [],
   "source": [
    "import json\n",
    "from openai import OpenAI\n",
    "\n",
    "GPT_MODEL = \"gpt-3.5-turbo-0613\"\n",
    "client = OpenAI()"
   ]
  },
  {
   "cell_type": "code",
   "execution_count": 16,
   "metadata": {},
   "outputs": [
    {
     "name": "stdout",
     "output_type": "stream",
     "text": [
      "ChatCompletionMessage(content=None, role='assistant', function_call=None, tool_calls=[ChatCompletionMessageToolCall(id='call_PwdUm2cvBL3Oepe0RjvrqRei', function=Function(arguments='{\"product_list\":[{\"Product\":\"Coke\",\"Price (€)\":1.5},{\"Product\":\"Hot Dog\",\"Price (€)\":3}],\"names\":[\"Coke\",\"Hot Dog\"]}', name='find_products_by_name'), type='function')])\n"
     ]
    }
   ],
   "source": [
    "completion = client.chat.completions.create(\n",
    "  model=\"gpt-3.5-turbo\",\n",
    "  messages=[\n",
    "    {\"role\": \"system\", \"content\": \"You are a helpful assistant.\"},\n",
    "    {\"role\": \"user\", \"content\": \"I want to order 1 coke and one Hot Dog!\"}\n",
    "  ],\n",
    "  tools=tools\n",
    ")\n",
    "\n",
    "print(completion.choices[0].message)"
   ]
  },
  {
   "cell_type": "code",
   "execution_count": 21,
   "metadata": {},
   "outputs": [
    {
     "data": {
      "text/plain": [
       "ChatCompletionMessage(content=None, role='assistant', function_call=None, tool_calls=[ChatCompletionMessageToolCall(id='call_PwdUm2cvBL3Oepe0RjvrqRei', function=Function(arguments='{\"product_list\":[{\"Product\":\"Coke\",\"Price (€)\":1.5},{\"Product\":\"Hot Dog\",\"Price (€)\":3}],\"names\":[\"Coke\",\"Hot Dog\"]}', name='find_products_by_name'), type='function')])"
      ]
     },
     "execution_count": 21,
     "metadata": {},
     "output_type": "execute_result"
    }
   ],
   "source": [
    "message = completion.choices[0].message\n",
    "message"
   ]
  },
  {
   "cell_type": "code",
   "execution_count": 23,
   "metadata": {},
   "outputs": [
    {
     "name": "stdout",
     "output_type": "stream",
     "text": [
      "find_products_by_name\n",
      "{\"product_list\":[{\"Product\":\"Coke\",\"Price (€)\":1.5},{\"Product\":\"Hot Dog\",\"Price (€)\":3}],\"names\":[\"Coke\",\"Hot Dog\"]}\n"
     ]
    }
   ],
   "source": [
    "print(message.tool_calls[0].function.name)\n",
    "print(message.tool_calls[0].function.arguments)"
   ]
  }
 ],
 "metadata": {
  "kernelspec": {
   "display_name": "app",
   "language": "python",
   "name": "python3"
  },
  "language_info": {
   "codemirror_mode": {
    "name": "ipython",
    "version": 3
   },
   "file_extension": ".py",
   "mimetype": "text/x-python",
   "name": "python",
   "nbconvert_exporter": "python",
   "pygments_lexer": "ipython3",
   "version": "3.11.0"
  }
 },
 "nbformat": 4,
 "nbformat_minor": 2
}
