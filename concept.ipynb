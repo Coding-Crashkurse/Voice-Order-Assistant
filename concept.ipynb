{
 "cells": [
  {
   "cell_type": "code",
   "execution_count": null,
   "metadata": {},
   "outputs": [],
   "source": [
    "fastfood_prices = {\n",
    "    \"Coke\": 1.99,\n",
    "    \"Fries\": 2.49,\n",
    "    \"Hamburger\": 3.99,\n",
    "    \"Cheeseburger\": 4.49,\n",
    "    \"Chicken Nuggets\": 4.99,\n",
    "    \"Ice Cream Sundae\": 2.99,\n",
    "    \"Salad\": 3.99,\n",
    "    \"Fishburger\": 4.99,\n",
    "    \"Hot Dog\": 3.49,\n",
    "    \"Milkshake\": 2.99\n",
    "}\n",
    "product_names_string = ', '.join(fastfood_prices.keys())"
   ]
  },
  {
   "cell_type": "code",
   "execution_count": null,
   "metadata": {},
   "outputs": [],
   "source": [
    "from openai import OpenAI\n",
    "from dotenv import find_dotenv, load_dotenv\n",
    "\n",
    "load_dotenv(find_dotenv())\n",
    "\n",
    "client = OpenAI()\n",
    "\n",
    "audio_file = open(\"speech.mp3\", \"rb\")\n",
    "transcript = client.audio.transcriptions.create(\n",
    "  model=\"whisper-1\",\n",
    "  file=audio_file\n",
    ")"
   ]
  },
  {
   "cell_type": "code",
   "execution_count": null,
   "metadata": {},
   "outputs": [],
   "source": [
    "def calculate_total_price(**kwargs):\n",
    "    products_with_quantities = kwargs.get('products_with_quantities', [])\n",
    "    total_price = sum(fastfood_prices[product['name']] * product['quantity'] for product in products_with_quantities)\n",
    "    return total_price\n"
   ]
  },
  {
   "cell_type": "code",
   "execution_count": null,
   "metadata": {},
   "outputs": [],
   "source": [
    "products_to_buy = {\"products_with_quantities\": [{\"name\": \"Coke\", \"quantity\": 1}, {\"name\": \"Hot Dog\", \"quantity\": 1}]}\n",
    "\n",
    "final_price = calculate_total_price(**products_to_buy)\n",
    "print(f\"Der Gesamtpreis beträgt: {final_price}€\")"
   ]
  },
  {
   "cell_type": "code",
   "execution_count": null,
   "metadata": {},
   "outputs": [],
   "source": [
    "tools = [{\n",
    "    \"type\": \"function\",\n",
    "    \"function\": {\n",
    "        \"name\": \"calculate_total_price\",\n",
    "        \"description\": \"Calculates the total price for a list of products with specified quantities, based on a predefined price list.\",\n",
    "        \"parameters\": {\n",
    "            \"type\": \"object\",\n",
    "            \"properties\": {\n",
    "                \"products_with_quantities\": {\n",
    "                    \"type\": \"array\",\n",
    "                    \"items\": {\n",
    "                        \"type\": \"object\",\n",
    "                        \"properties\": {\n",
    "                            \"name\": {\n",
    "                                \"type\": \"string\",\n",
    "                                \"description\": \"The name of the product.\"\n",
    "                            },\n",
    "                            \"quantity\": {\n",
    "                                \"type\": \"integer\",\n",
    "                                \"description\": \"The quantity of the product.\"\n",
    "                            }\n",
    "                        },\n",
    "                        \"required\": [\"name\", \"quantity\"]\n",
    "                    },\n",
    "                    \"description\": \"A list of products with their names and quantities. Each item is an object with 'name' and 'quantity' properties.\"\n",
    "                }\n",
    "            },\n",
    "            \"required\": [\"products_with_quantities\"]\n",
    "        }\n",
    "    }\n",
    "}]\n"
   ]
  },
  {
   "cell_type": "code",
   "execution_count": null,
   "metadata": {},
   "outputs": [],
   "source": [
    "import json\n",
    "from openai import OpenAI\n",
    "\n",
    "GPT_MODEL = \"gpt-3.5-turbo-0613\"\n",
    "client = OpenAI()"
   ]
  },
  {
   "cell_type": "code",
   "execution_count": null,
   "metadata": {},
   "outputs": [],
   "source": [
    "completion = client.chat.completions.create(\n",
    "  model=\"gpt-3.5-turbo\",\n",
    "  messages=[\n",
    "    {\"role\": \"system\", \"content\": f\"You are an assistant to reformulate textinut of a user. He orders products. You identify the following products {product_names_string} in the request and rename it if there is an error. Example: 'hat dog' -> 'Hot Dog' Also reformulate or create numbers from the request. Example: 'A Hot Dog' -> '1 Hot Dog'\"},\n",
    "    {\"role\": \"user\", \"content\": \"I want to order 1 coke and one Hot dag!\"}\n",
    "  ],\n",
    ")\n",
    "new_question = completion.choices[0].message\n",
    "print(new_question)"
   ]
  },
  {
   "cell_type": "code",
   "execution_count": null,
   "metadata": {},
   "outputs": [],
   "source": [
    "completion = client.chat.completions.create(\n",
    "  model=\"gpt-3.5-turbo\",\n",
    "  messages=[\n",
    "    {\"role\": \"system\", \"content\": \"You are a helpful assistant.\"},\n",
    "    {\"role\": \"user\", \"content\": \"I want to order 1 coke and one Hot Dog!\"}\n",
    "  ],\n",
    "  tools=tools\n",
    ")\n",
    "\n",
    "print(completion.choices[0].message)"
   ]
  },
  {
   "cell_type": "code",
   "execution_count": null,
   "metadata": {},
   "outputs": [],
   "source": [
    "message = completion.choices[0].message\n",
    "message"
   ]
  },
  {
   "cell_type": "code",
   "execution_count": null,
   "metadata": {},
   "outputs": [],
   "source": [
    "print(message.tool_calls[0].function.name)\n",
    "print(message.tool_calls[0].function.arguments)"
   ]
  },
  {
   "cell_type": "code",
   "execution_count": null,
   "metadata": {},
   "outputs": [],
   "source": [
    "import json\n",
    "\n",
    "arguments = json.loads(message.tool_calls[0].function.arguments)"
   ]
  },
  {
   "cell_type": "code",
   "execution_count": null,
   "metadata": {},
   "outputs": [],
   "source": [
    "final_price = calculate_total_price(**arguments)"
   ]
  },
  {
   "cell_type": "code",
   "execution_count": null,
   "metadata": {},
   "outputs": [],
   "source": [
    "completion = client.chat.completions.create(\n",
    "  model=\"gpt-3.5-turbo\",\n",
    "  messages=[\n",
    "    {\"role\": \"system\", \"content\": f\"You are a helpful assistant. You tell the client 'Thanks for your ordner. Please drive to the issuing counter and put the money in the machine. The final price is: {final_price}€\"},\n",
    "  ],\n",
    ")\n",
    "message = completion.choices[0].message\n",
    "message"
   ]
  },
  {
   "cell_type": "code",
   "execution_count": null,
   "metadata": {},
   "outputs": [],
   "source": [
    "from pathlib import Path\n",
    "from openai import OpenAI\n",
    "import os\n",
    "\n",
    "client = OpenAI()\n",
    "\n",
    "speech_file_path = os.path.join(os.getcwd(), \"order.mp3\")\n",
    "print(speech_file_path)\n",
    "response = client.audio.speech.create(\n",
    "  model=\"tts-1\",\n",
    "  voice=\"alloy\",\n",
    "input=message.content\n",
    ")\n",
    "response.stream_to_file(speech_file_path)"
   ]
  }
 ],
 "metadata": {
  "kernelspec": {
   "display_name": "app",
   "language": "python",
   "name": "python3"
  },
  "language_info": {
   "codemirror_mode": {
    "name": "ipython",
    "version": 3
   },
   "file_extension": ".py",
   "mimetype": "text/x-python",
   "name": "python",
   "nbconvert_exporter": "python",
   "pygments_lexer": "ipython3",
   "version": "3.11.0"
  }
 },
 "nbformat": 4,
 "nbformat_minor": 2
}
